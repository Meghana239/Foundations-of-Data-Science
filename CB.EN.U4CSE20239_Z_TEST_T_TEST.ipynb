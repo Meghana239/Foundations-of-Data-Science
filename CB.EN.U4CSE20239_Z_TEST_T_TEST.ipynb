{
  "nbformat": 4,
  "nbformat_minor": 0,
  "metadata": {
    "colab": {
      "provenance": []
    },
    "kernelspec": {
      "name": "python3",
      "display_name": "Python 3"
    },
    "language_info": {
      "name": "python"
    }
  },
  "cells": [
    {
      "cell_type": "markdown",
      "source": [
        "#Application : Amazon Prime Video"
      ],
      "metadata": {
        "id": "iHtOf1w13NCI"
      }
    },
    {
      "cell_type": "markdown",
      "source": [
        "#Z-Test"
      ],
      "metadata": {
        "id": "sWyCf14C3DFM"
      }
    },
    {
      "cell_type": "markdown",
      "source": [
        "The average no of views for the telugu movies streaming in amazon prime is 4k. These numbers have a standard deviation of 150. for the past 3 months, it has been observed that the average views for a sample of 35 telugu movies is 4500 views.Whether the views for this ott platform has increased? Perform a hypothesis test. \n",
        "significance level has alpha=0.05"
      ],
      "metadata": {
        "id": "rFA8WK1_U4RL"
      }
    },
    {
      "cell_type": "markdown",
      "source": [
        "Null hypothesis: Average no of views for the movies streaming in Amazon Prime video is remains same or decreased(i.e,still around 4000).\n",
        "Ho : mu <= 4000\n",
        "\n",
        "Alternate hypothesis: Average no of views for the movies streaming in Amazon Prime video has been increased.\n",
        "Ha : mu > 4000\n",
        "\n",
        "Perform right tailed test"
      ],
      "metadata": {
        "id": "0jKrY6MPXwdw"
      }
    },
    {
      "cell_type": "code",
      "source": [
        "import numpy as np\n",
        "import scipy.stats as st"
      ],
      "metadata": {
        "id": "S6gCEXGmZzHh"
      },
      "execution_count": null,
      "outputs": []
    },
    {
      "cell_type": "code",
      "execution_count": null,
      "metadata": {
        "id": "JpV37OtnUuK6"
      },
      "outputs": [],
      "source": [
        "n = 35\n",
        "xbar = 4500\n",
        "mu = 4000\n",
        "sigma = 150\n",
        "alpha = 0.05"
      ]
    },
    {
      "cell_type": "code",
      "source": [
        "z_critical = abs(st.norm.ppf(alpha))\n",
        "z_critical"
      ],
      "metadata": {
        "colab": {
          "base_uri": "https://localhost:8080/"
        },
        "id": "8ol_xMAmZm2A",
        "outputId": "e7536833-cf43-4edb-80dd-c436277b1164"
      },
      "execution_count": null,
      "outputs": [
        {
          "output_type": "execute_result",
          "data": {
            "text/plain": [
              "1.6448536269514729"
            ]
          },
          "metadata": {},
          "execution_count": 4
        }
      ]
    },
    {
      "cell_type": "code",
      "source": [
        "z = (xbar-mu)/(sigma/np.sqrt(n))\n",
        "z"
      ],
      "metadata": {
        "colab": {
          "base_uri": "https://localhost:8080/"
        },
        "id": "E7ib93_KZ06z",
        "outputId": "73c39964-823a-45a6-d865-18999880d674"
      },
      "execution_count": null,
      "outputs": [
        {
          "output_type": "execute_result",
          "data": {
            "text/plain": [
              "19.720265943665385"
            ]
          },
          "metadata": {},
          "execution_count": 5
        }
      ]
    },
    {
      "cell_type": "code",
      "source": [
        "if (z < z_critical): \n",
        "    print(\"Fail to Reject null hypothesis\")\n",
        "else:\n",
        "    print(\"Reject null hypothesis\")"
      ],
      "metadata": {
        "colab": {
          "base_uri": "https://localhost:8080/"
        },
        "id": "JJHw6Vf2Z8ld",
        "outputId": "8491f244-0346-4463-badc-618b79fcd038"
      },
      "execution_count": null,
      "outputs": [
        {
          "output_type": "stream",
          "name": "stdout",
          "text": [
            "Reject null hypothesis\n"
          ]
        }
      ]
    },
    {
      "cell_type": "markdown",
      "source": [
        "Conclusion : We have enough evidence to support alternate hypothesis and to reject null hypothesis. Average no of views for the movies streaming in Amazon Prime video has been increased."
      ],
      "metadata": {
        "id": "e0g5LWdhZ_kP"
      }
    },
    {
      "cell_type": "markdown",
      "source": [
        "#T-Test"
      ],
      "metadata": {
        "id": "FGeoGTxq2dhy"
      }
    },
    {
      "cell_type": "markdown",
      "source": [
        "The average no of views for the telugu movies streaming in amazon prime is 2000. These numbers have a standard deviation of 100. for the past 3 months, it has been observed that the average views for a sample of 17 telugu movies is 2300 views.Whether the views for this ott platform has increased? Perform a hypothesis test. \n",
        "significance level has alpha=0.05"
      ],
      "metadata": {
        "id": "gz02SOQo2jPx"
      }
    },
    {
      "cell_type": "markdown",
      "source": [
        "Null hypothesis: Average no of views for the movies streaming in Amazon Prime video is remains same or decreased(i.e,still around 2000).\n",
        "Ho : mu <= 2000\n",
        "\n",
        "Alternate hypothesis: Average no of views for the movies streaming in Amazon Prime video has been increased.\n",
        "Ha : mu > 2000\n",
        "\n",
        "Perform t-test"
      ],
      "metadata": {
        "id": "VrKE_5Dx2nUl"
      }
    },
    {
      "cell_type": "code",
      "source": [
        "n = 17\n",
        "degrees_of_freedom = n-1\n",
        "xbar = 2300\n",
        "mu = 2000\n",
        "s = 100\n",
        "alpha = 0.05\n"
      ],
      "metadata": {
        "id": "xkZoX1fM2ba1"
      },
      "execution_count": 1,
      "outputs": []
    },
    {
      "cell_type": "code",
      "source": [
        "import numpy as np\n",
        "import scipy.stats as st"
      ],
      "metadata": {
        "id": "31vbuUia2t6G"
      },
      "execution_count": 2,
      "outputs": []
    },
    {
      "cell_type": "code",
      "source": [
        "t = (xbar - mu)/(s / np.sqrt(n))\n",
        "t"
      ],
      "metadata": {
        "colab": {
          "base_uri": "https://localhost:8080/"
        },
        "id": "8MjqqF4J2xl_",
        "outputId": "cca66af3-8d7a-4e33-ff65-3e304cd71929"
      },
      "execution_count": 3,
      "outputs": [
        {
          "output_type": "execute_result",
          "data": {
            "text/plain": [
              "12.36931687685298"
            ]
          },
          "metadata": {},
          "execution_count": 3
        }
      ]
    },
    {
      "cell_type": "code",
      "source": [
        "p_val = (1 - st.t.cdf(abs(t), degrees_of_freedom))  #\"1 - cdf\" because it's a right-tailed test\n",
        "p_val"
      ],
      "metadata": {
        "colab": {
          "base_uri": "https://localhost:8080/"
        },
        "id": "uRHgmcHU20fW",
        "outputId": "f9597356-27fa-49d7-9026-85154d9ddc1b"
      },
      "execution_count": 4,
      "outputs": [
        {
          "output_type": "execute_result",
          "data": {
            "text/plain": [
              "6.622788983889905e-10"
            ]
          },
          "metadata": {},
          "execution_count": 4
        }
      ]
    },
    {
      "cell_type": "code",
      "source": [
        "if (p_val > alpha):\n",
        "    print(\"Null hypothesis cannot be rejected\")\n",
        "else:\n",
        "    print(\"Reject null hypothesis\")"
      ],
      "metadata": {
        "colab": {
          "base_uri": "https://localhost:8080/"
        },
        "id": "WPO_BMmL25O0",
        "outputId": "8564ff3f-f1b9-4980-e8b0-17c062101156"
      },
      "execution_count": 5,
      "outputs": [
        {
          "output_type": "stream",
          "name": "stdout",
          "text": [
            "Reject null hypothesis\n"
          ]
        }
      ]
    },
    {
      "cell_type": "markdown",
      "source": [
        "Conclusion : We have enough evidence to support alternate hypothesis and to reject null hypothesis. Average no of views for the movies streaming in Amazon Prime video has been increased."
      ],
      "metadata": {
        "id": "N2ft012829s3"
      }
    }
  ]
}